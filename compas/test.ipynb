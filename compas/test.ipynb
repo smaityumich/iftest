{
 "metadata": {
  "language_info": {
   "codemirror_mode": {
    "name": "ipython",
    "version": 3
   },
   "file_extension": ".py",
   "mimetype": "text/x-python",
   "name": "python",
   "nbconvert_exporter": "python",
   "pygments_lexer": "ipython3",
   "version": "3.8.2-final"
  },
  "orig_nbformat": 2,
  "kernelspec": {
   "name": "python3",
   "display_name": "Python 3.8.2 64-bit",
   "metadata": {
    "interpreter": {
     "hash": "31f2aee4e71d21fbe5cf8b01ff0e069b9275f58929596ceb00d14d90e3e16cd6"
    }
   }
  }
 },
 "nbformat": 4,
 "nbformat_minor": 2,
 "cells": [
  {
   "cell_type": "code",
   "execution_count": 1,
   "metadata": {},
   "outputs": [
    {
     "output_type": "stream",
     "name": "stdout",
     "text": [
      "(5278, 8)\n['sex', 'race', 'priors_count', 'age_cat=25 to 45', 'age_cat=Greater than 45', 'age_cat=Less than 25', 'c_charge_degree=F', 'c_charge_degree=M']\nsex\nrace\n"
     ]
    }
   ],
   "source": [
    "import numpy as np\n",
    "import compas_data as compas\n",
    "\n",
    "_, x_test, _, y_test, _, y_sex_test,\\\n",
    "        _, y_race_test, _ = compas.get_compas_train_test(random_state = 0)\n",
    "y_sex_test, y_race_test = np.copy(y_sex_test), np.copy(y_race_test)"
   ]
  },
  {
   "cell_type": "code",
   "execution_count": 2,
   "metadata": {},
   "outputs": [],
   "source": [
    " u, c = np.unique(x_test[:, 2], return_counts=True)"
   ]
  },
  {
   "cell_type": "code",
   "execution_count": 3,
   "metadata": {},
   "outputs": [
    {
     "output_type": "execute_result",
     "data": {
      "text/plain": [
       "(array([-0.71038047, -0.50492586, -0.29947126, -0.09401665,  0.11143796,\n",
       "         0.31689256,  0.52234717,  0.72780177,  0.93325638,  1.13871099,\n",
       "         1.34416559,  1.5496202 ,  1.75507481,  1.96052941,  2.16598402,\n",
       "         2.37143863,  2.57689323,  2.78234784,  2.98780244,  3.19325705,\n",
       "         3.39871166,  3.60416626,  3.80962087,  4.01507548,  4.22053008,\n",
       "         4.6314393 ,  4.8368939 ,  5.04234851,  6.68598536]),\n",
       " array([323, 218, 108,  74,  53,  48,  36,  38,  25,  21,  15,  20,   9,\n",
       "         10,   8,   9,   9,   5,   3,   4,   1,   4,   2,   5,   3,   1,\n",
       "          2,   1,   1]))"
      ]
     },
     "metadata": {},
     "execution_count": 3
    }
   ],
   "source": [
    "u, c"
   ]
  },
  {
   "cell_type": "code",
   "execution_count": 23,
   "metadata": {},
   "outputs": [
    {
     "output_type": "stream",
     "name": "stdout",
     "text": [
      "(5278, 8)\n['sex', 'race', 'priors_count', 'age_cat=25 to 45', 'age_cat=Greater than 45', 'age_cat=Less than 25', 'c_charge_degree=F', 'c_charge_degree=M']\nsex\nrace\n"
     ]
    },
    {
     "output_type": "execute_result",
     "data": {
      "text/plain": [
       "(1056, 7)"
      ]
     },
     "metadata": {},
     "execution_count": 23
    }
   ],
   "source": [
    "_, x_test, _, y_test, _, y_sex_test,\\\n",
    "        _, y_race_test, _ = compas.get_compas_train_test(random_state = 0)\n",
    "y_sex_test, y_race_test = np.copy(y_sex_test), np.copy(y_race_test)\n",
    "\n",
    "\n",
    "\n",
    "    # Feature names:\n",
    "    # (0) 'sex'                          a = 0, 1\n",
    "    # (1) 'race'                         b = 0, 1\n",
    "    # (5) 'priors_count'                 c\n",
    "    # (2) 'age_cat=25 to 45'             d1\n",
    "    # (3) 'age_cat=Greater than 45'      d2\n",
    "    # (4) 'age_cat=Less than 25'         d3, d1+d2+d3 = 1\n",
    "    # (8) 'c_charge_degree=F'            e1\n",
    "    # (9) 'c_charge_degree=M'            e2, e1+e2 = 1\n",
    "\n",
    "    # Label name: 'two_year_recid'          # f = 0, 1\n",
    "n = y_sex_test.shape[0]\n",
    "u, c = np.unique(x_test[:, 2], return_counts = True)\n",
    "    # X_test = np.copy(x_test)\n",
    "    # replace = [ np.mean(u[1:4] * c[1:4])/np.mean(c[1:4]), np.mean(u[4:] * c[4:])/np.mean(c[4:])]\n",
    "    # for i in range(n):\n",
    "    #     if X_test[i, 2] < u[4] and X_test[i, 2]>u[0] :\n",
    "    #         X_test[i, 2] = replace[0]\n",
    "    #     elif X_test[i, 2] > u[3]:\n",
    "    #         X_test[i, 2] = replace[1]\n",
    "    #     else:\n",
    "    #         X_test[i, 2] = u[0]\n",
    "\n",
    "    # pcount = [u[0]] + replace\n",
    "    # pcount = [(v, ) for v in pcount]\n",
    "\n",
    "    # u = list(u)\n",
    "    # u = [(v,) for v in u]  "
   ]
  },
  {
   "cell_type": "code",
   "execution_count": 16,
   "metadata": {},
   "outputs": [
    {
     "output_type": "stream",
     "name": "stdout",
     "text": [
      "1392\n"
     ]
    }
   ],
   "source": [
    "space_Z = []\n",
    "for a in [[0], [1]]:\n",
    "    pa = tuple(a)\n",
    "    for b in [[0], [1]]:\n",
    "        pb = pa + tuple(b)\n",
    "        for c in u:\n",
    "            pc = pb + (c, )\n",
    "            for d in [(1,0,0), (0,1,0), (0,0,1)]:\n",
    "                pd = pc + d\n",
    "                for e in [(1,0), (0,1)]:\n",
    "                    pe = pd + e\n",
    "                    for f in [[0], [1]]:\n",
    "                        data_point = pe + tuple(f)\n",
    "                        space_Z.append(data_point)\n",
    "K = len(space_Z)\n",
    "space_Z = np.array(space_Z, dtype='float64')\n",
    "print(K)\n",
    "p_n = list(0 for _ in range(K))\n",
    "\n",
    "\n",
    "\n",
    "\n"
   ]
  },
  {
   "cell_type": "code",
   "execution_count": 22,
   "metadata": {},
   "outputs": [
    {
     "output_type": "execute_result",
     "data": {
      "text/plain": [
       "array([   0,    3,    4,    7,    8,   11,   12,   15,   16,   19,   20,\n",
       "         23,   24,   27,   28,   31,   32,   35,   36,   39,   40,   43,\n",
       "         44,   47,   48,   51,   55,   56,   59,   60,   63,   64,   71,\n",
       "         72,   75,   76,   79,   80,   83,   84,   87,   88,   91,   92,\n",
       "         95,   96,   99,  100,  103,  108,  111,  123,  127,  132,  135,\n",
       "        136,  143,  144,  147,  148,  151,  159,  163,  171,  175,  180,\n",
       "        183,  184,  187,  191,  195,  196,  199,  207,  211,  215,  219,\n",
       "        223,  235,  247,  256,  259,  267,  279,  283,  288,  291,  292,\n",
       "        303,  315,  327,  348,  351,  352,  355,  356,  359,  360,  363,\n",
       "        364,  367,  368,  371,  372,  375,  376,  379,  380,  383,  384,\n",
       "        387,  388,  391,  395,  396,  399,  400,  403,  408,  411,  412,\n",
       "        415,  419,  420,  423,  427,  435,  444,  448,  451,  452,  455,\n",
       "        456,  459,  463,  471,  475,  480,  483,  487,  492,  496,  507,\n",
       "        516,  519,  523,  528,  583,  631,  691,  696,  699,  700,  704,\n",
       "        707,  708,  711,  712,  716,  719,  720,  723,  728,  731,  732,\n",
       "        735,  736,  744,  747,  748,  755,  756,  759,  768,  771,  776,\n",
       "        783,  787,  796,  804,  807,  819,  823,  828,  831,  835,  852,\n",
       "        888,  903,  931,  955,  963,  975, 1044, 1047, 1048, 1051, 1052,\n",
       "       1055, 1056, 1059, 1060, 1064, 1068, 1071, 1072, 1076, 1079, 1080,\n",
       "       1083, 1084, 1095, 1096, 1104, 1116, 1120, 1127, 1128, 1131, 1135,\n",
       "       1136, 1147, 1179])"
      ]
     },
     "metadata": {},
     "execution_count": 22
    }
   ],
   "source": [
    "indices = []\n",
    "z_test = np.concatenate((x_test, y_test.reshape((-1, 1))), axis = 1).astype('float64')\n",
    "for i in range(n):\n",
    "    z = z_test[i, :]\n",
    "    lens = [2, 2, np.shape(u)[0], 3, 2, 2]\n",
    "    lu = np.shape(u)[0]\n",
    "    ind = z[-1] + np.sum(z[6:8] * np.array([0, 1])) * 2 + np.sum(z[3:6] * np.array([0, 1, 2])) * 2 * 2 + \\\n",
    "        np.where(u == z[2])[0] * 2 * 2 * 3 + z[1] * 2 * 2 * 3 * lu + z[0] * 2 * 2 * 3 * lu * 2\n",
    "    indices.append(int(ind[0]))\n",
    "np.unique(indices)"
   ]
  },
  {
   "cell_type": "code",
   "execution_count": 13,
   "metadata": {},
   "outputs": [
    {
     "output_type": "execute_result",
     "data": {
      "text/plain": [
       "array([ 0.,  1.,  2.,  3.,  4.,  5.,  6.,  7.,  8.,  9., 10., 11., 12.,\n",
       "       13., 14., 15., 16., 17., 18., 19., 20., 21., 22., 23., 24., 26.,\n",
       "       27., 28., 36.])"
      ]
     },
     "metadata": {},
     "execution_count": 13
    }
   ],
   "source": [
    "v = (u - u[0])\n",
    "v = v /v[1]\n",
    "v"
   ]
  },
  {
   "cell_type": "code",
   "execution_count": 14,
   "metadata": {},
   "outputs": [
    {
     "output_type": "execute_result",
     "data": {
      "text/plain": [
       "[-0.7103804698258719, -0.37343491539979135, 1.1504336225879908]"
      ]
     },
     "metadata": {},
     "execution_count": 14
    }
   ],
   "source": [
    "t1 = np.sum(u[1:4] * c[1:4])/np.sum(c[1:4])\n",
    "t2 = np.sum(u[4:] * c[4:])/np.sum(c[4:])\n",
    "t0 = u[0]\n",
    "v = [t0, t1, t2]\n",
    "v"
   ]
  },
  {
   "cell_type": "code",
   "execution_count": 15,
   "metadata": {},
   "outputs": [
    {
     "output_type": "execute_result",
     "data": {
      "text/plain": [
       "array([-0.50492586, -0.71038047, -0.71038047, ..., -0.29947126,\n",
       "        1.34416559,  0.31689256])"
      ]
     },
     "metadata": {},
     "execution_count": 15
    }
   ],
   "source": [
    "pcount = np.copy(x_test[:, 2])\n",
    "pcount_new = np.zeros((n,))"
   ]
  },
  {
   "cell_type": "code",
   "execution_count": null,
   "metadata": {},
   "outputs": [],
   "source": [
    "Z_dict = dict(zip([tuple(space_Z[i, :]) for i in range(K)], list(range(K))))\n",
    "z_test = np.concatenate((x_test, y_test.reshape((-1, 1))), axis = 1).astype('float64')\n",
    "print(Z_dict)\n",
    "for i in range(n):\n",
    "    z = tuple(z_test[i, :])\n",
    "        #z = tuple(int(x) for x in z)\n",
    "    p_n[Z_dict.get(z)] += 1"
   ]
  },
  {
   "cell_type": "code",
   "execution_count": 24,
   "metadata": {},
   "outputs": [
    {
     "output_type": "execute_result",
     "data": {
      "text/plain": [
       "(1056, 7)"
      ]
     },
     "metadata": {},
     "execution_count": 24
    }
   ],
   "source": [
    "x_test.shape"
   ]
  },
  {
   "cell_type": "code",
   "execution_count": 29,
   "metadata": {},
   "outputs": [
    {
     "output_type": "execute_result",
     "data": {
      "text/plain": [
       "1.0"
      ]
     },
     "metadata": {},
     "execution_count": 29
    }
   ],
   "source": [
    "np.mean(x_test[:, 3] + x_test[:, 4] + x_test[:, 5])"
   ]
  },
  {
   "cell_type": "code",
   "execution_count": null,
   "metadata": {},
   "outputs": [],
   "source": []
  }
 ]
}