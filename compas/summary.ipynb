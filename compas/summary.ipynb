{
 "cells": [
  {
   "cell_type": "markdown",
   "metadata": {},
   "source": [
    "# Summary table for **COMPAS** data\n",
    "\n",
    "Here we extract the summary measures for *COMPAS* data for four classifiers: (1) baseline, (2) project, (3) reduction, and (4) SenSR.\n",
    "For each of the classifiers we perform gradient flow attack with step size = 5e-3 where $i$ is the current step number. We perform 200 steps of attacks on each data points. \n",
    "\n",
    "First, we load the summary data for all experiments, and compile it in a panda dataframe. "
   ]
  },
  {
   "cell_type": "code",
   "execution_count": 20,
   "metadata": {
    "tags": []
   },
   "outputs": [],
   "source": [
    "import re\n",
    "import pandas as pd\n",
    "import json\n",
    "with open('summary/summary_gfa1.txt', 'r') as f:\n",
    "    d = json.load(f)\n"
   ]
  },
  {
   "cell_type": "code",
   "execution_count": 21,
   "metadata": {},
   "outputs": [
    {
     "output_type": "execute_result",
     "data": {
      "text/plain": [
       "algo              object\n",
       "seed              object\n",
       "lr               float64\n",
       "accuracy         float64\n",
       "lb               float64\n",
       "pval             float64\n",
       "bal_acc          float64\n",
       "gap_rms_gen      float64\n",
       "mean_gap_gen     float64\n",
       "max_gap_gen      float64\n",
       "AOD-gen          float64\n",
       "EOD-gen          float64\n",
       "SPD-gen          float64\n",
       "gap_rms_race     float64\n",
       "mean_gap_race    float64\n",
       "max_gap_race     float64\n",
       "AOD-race         float64\n",
       "EOD-race         float64\n",
       "SPD-race         float64\n",
       "lb-t2            float64\n",
       "dtype: object"
      ]
     },
     "metadata": {},
     "execution_count": 21
    }
   ],
   "source": [
    "\n",
    "data = pd.DataFrame(d)\n",
    "#data['reject'] = data['pval'] < 0.05\n",
    "lr = 2e-3\n",
    "data_lr = data.loc[data['lr'] == lr]\n",
    "data_lr = data_lr.rename(columns= {'average_odds_difference_gen': 'AOD-gen', 'average_odds_difference_race': 'AOD-race', 'statistical_parity_difference_gen': 'SPD-gen', 'statistical_parity_difference_race': 'SPD-race',\\\n",
    "                                   'equal_opportunity_difference_race': 'EOD-race', 'equal_opportunity_difference_gen': 'EOD-gen'})\n",
    "data_lr.dtypes"
   ]
  },
  {
   "source": [
    "data_lr"
   ],
   "cell_type": "markdown",
   "metadata": {}
  },
  {
   "cell_type": "markdown",
   "metadata": {},
   "source": [
    "We only extract the following measures: balanced accuracy, average odds difference for gender and race and lower bound and proportion of times the test being rejected. "
   ]
  },
  {
   "cell_type": "code",
   "execution_count": 22,
   "metadata": {},
   "outputs": [
    {
     "output_type": "execute_result",
     "data": {
      "text/plain": [
       "        algo   bal_acc             AOD-gen            AOD-race            \\\n",
       "                  mean       std      mean       std      mean       std   \n",
       "0   baseline  0.658564  0.011056  0.201118  0.042164  0.271933  0.035886   \n",
       "1    project  0.646496  0.011121  0.086918  0.042230  0.191357  0.029364   \n",
       "2  reduction  0.655648  0.012991  0.011637  0.058538  0.072250  0.048846   \n",
       "3      sensr  0.651110  0.008678  0.106435  0.033477  0.188971  0.031524   \n",
       "\n",
       "         lb               lb-t2            \n",
       "       mean       std      mean       std  \n",
       "0  1.339781  0.030120  1.436864  0.068734  \n",
       "1  1.311500  0.540452  1.206805  0.304710  \n",
       "2  1.366373  0.028704  1.570820  0.072378  \n",
       "3  1.183882  0.307340  1.169214  0.224899  "
      ],
      "text/html": "<div>\n<style scoped>\n    .dataframe tbody tr th:only-of-type {\n        vertical-align: middle;\n    }\n\n    .dataframe tbody tr th {\n        vertical-align: top;\n    }\n\n    .dataframe thead tr th {\n        text-align: left;\n    }\n</style>\n<table border=\"1\" class=\"dataframe\">\n  <thead>\n    <tr>\n      <th></th>\n      <th>algo</th>\n      <th colspan=\"2\" halign=\"left\">bal_acc</th>\n      <th colspan=\"2\" halign=\"left\">AOD-gen</th>\n      <th colspan=\"2\" halign=\"left\">AOD-race</th>\n      <th colspan=\"2\" halign=\"left\">lb</th>\n      <th colspan=\"2\" halign=\"left\">lb-t2</th>\n    </tr>\n    <tr>\n      <th></th>\n      <th></th>\n      <th>mean</th>\n      <th>std</th>\n      <th>mean</th>\n      <th>std</th>\n      <th>mean</th>\n      <th>std</th>\n      <th>mean</th>\n      <th>std</th>\n      <th>mean</th>\n      <th>std</th>\n    </tr>\n  </thead>\n  <tbody>\n    <tr>\n      <th>0</th>\n      <td>baseline</td>\n      <td>0.658564</td>\n      <td>0.011056</td>\n      <td>0.201118</td>\n      <td>0.042164</td>\n      <td>0.271933</td>\n      <td>0.035886</td>\n      <td>1.339781</td>\n      <td>0.030120</td>\n      <td>1.436864</td>\n      <td>0.068734</td>\n    </tr>\n    <tr>\n      <th>1</th>\n      <td>project</td>\n      <td>0.646496</td>\n      <td>0.011121</td>\n      <td>0.086918</td>\n      <td>0.042230</td>\n      <td>0.191357</td>\n      <td>0.029364</td>\n      <td>1.311500</td>\n      <td>0.540452</td>\n      <td>1.206805</td>\n      <td>0.304710</td>\n    </tr>\n    <tr>\n      <th>2</th>\n      <td>reduction</td>\n      <td>0.655648</td>\n      <td>0.012991</td>\n      <td>0.011637</td>\n      <td>0.058538</td>\n      <td>0.072250</td>\n      <td>0.048846</td>\n      <td>1.366373</td>\n      <td>0.028704</td>\n      <td>1.570820</td>\n      <td>0.072378</td>\n    </tr>\n    <tr>\n      <th>3</th>\n      <td>sensr</td>\n      <td>0.651110</td>\n      <td>0.008678</td>\n      <td>0.106435</td>\n      <td>0.033477</td>\n      <td>0.188971</td>\n      <td>0.031524</td>\n      <td>1.183882</td>\n      <td>0.307340</td>\n      <td>1.169214</td>\n      <td>0.224899</td>\n    </tr>\n  </tbody>\n</table>\n</div>"
     },
     "metadata": {},
     "execution_count": 22
    }
   ],
   "source": [
    "measure = ['bal_acc', 'AOD-gen', 'AOD-race', 'lb', 'lb-t2']#, 'reject']\n",
    "agg_dict = dict()\n",
    "for key in measure:\n",
    "    agg_dict[key] = ['mean', 'std']\n",
    "result = data_lr.groupby(['algo'], as_index=False).agg(agg_dict)\n",
    "result"
   ]
  },
  {
   "cell_type": "code",
   "execution_count": 4,
   "metadata": {},
   "outputs": [],
   "source": [
    "rows = ['sensr', 'reduction', 'baseline', 'project']\n",
    "row_names = ['Baseline', 'Project', 'Reduction','SenSR']\n",
    "colnames=['Balanced Acc', '$\\\\text{AOD}_{\\\\text{gen}}$', '$\\\\text{AOD}_{\\\\text{race}}$', '$T_n$', 'Rejection Prop']\n"
   ]
  },
  {
   "cell_type": "code",
   "execution_count": 5,
   "metadata": {},
   "outputs": [],
   "source": [
    "for i, c in enumerate(measure):\n",
    "    if c == 'reject':\n",
    "        idx_best = (1-result[c]['mean']).idxmin()\n",
    "        result[colnames[i]] = (result[c]['mean']).apply(\"{:.1f}\".format)\n",
    "        #result.at[idx_best, colnames[i]] = '\\\\textbf{' + result[colnames[i]][idx_best] + '}'\n",
    "        \n",
    "    elif c == 'bal_acc':\n",
    "        idx_best = (result[c]['mean']).idxmax()\n",
    "        result[colnames[i]] = result[c]['mean'].apply(\"{:.3f}\".format)+ '$\\pm$' + result[c]['std'].apply(\"{:.3f}\".format)\n",
    "        best_val = result[colnames[i]][idx_best].split('$\\pm$')\n",
    "        best_val = '$\\pm$'.join(['\\\\textbf{' + best_val[0] + '}', best_val[1]])\n",
    "        #result.at[idx_best, colnames[i]] = best_val\n",
    "    elif c == 'lb':\n",
    "        idx_best = (result[c]['mean']).idxmin()\n",
    "        result[colnames[i]] = result[c]['mean'].apply(\"{:.3f}\".format)+ '$\\pm$' + result[c]['std'].apply(\"{:.3f}\".format)\n",
    "        best_val = result[colnames[i]][idx_best].split('$\\pm$')\n",
    "        best_val = '$\\pm$'.join(['\\\\textbf{' + best_val[0] + '}', best_val[1]])\n",
    "        #result.at[idx_best, colnames[i]] = best_val\n",
    "    else:\n",
    "        idx_best = (result[c]['mean']).abs().idxmin()\n",
    "        result[colnames[i]] = result[c]['mean'].apply(\"{:.3f}\".format)+ '$\\pm$' + result[c]['std'].apply(\"{:.3f}\".format)\n",
    "        best_val = result[colnames[i]][idx_best].split('$\\pm$')\n",
    "        best_val = '$\\pm$'.join(['\\\\textbf{' + best_val[0] + '}', best_val[1]])\n",
    "        #result.at[idx_best, colnames[i]] = best_val\n"
   ]
  },
  {
   "cell_type": "code",
   "execution_count": 6,
   "metadata": {},
   "outputs": [
    {
     "data": {
      "text/html": [
       "<div>\n",
       "<style scoped>\n",
       "    .dataframe tbody tr th:only-of-type {\n",
       "        vertical-align: middle;\n",
       "    }\n",
       "\n",
       "    .dataframe tbody tr th {\n",
       "        vertical-align: top;\n",
       "    }\n",
       "\n",
       "    .dataframe thead tr th {\n",
       "        text-align: left;\n",
       "    }\n",
       "</style>\n",
       "<table border=\"1\" class=\"dataframe\">\n",
       "  <thead>\n",
       "    <tr>\n",
       "      <th></th>\n",
       "      <th>Balanced Acc</th>\n",
       "      <th>$\\text{AOD}_{\\text{gen}}$</th>\n",
       "      <th>$\\text{AOD}_{\\text{race}}$</th>\n",
       "      <th>$T_n$</th>\n",
       "      <th>Rejection Prop</th>\n",
       "    </tr>\n",
       "    <tr>\n",
       "      <th></th>\n",
       "      <th></th>\n",
       "      <th></th>\n",
       "      <th></th>\n",
       "      <th></th>\n",
       "      <th></th>\n",
       "    </tr>\n",
       "  </thead>\n",
       "  <tbody>\n",
       "    <tr>\n",
       "      <th>Baseline</th>\n",
       "      <td>0.675$\\pm$0.013</td>\n",
       "      <td>0.218$\\pm$0.041</td>\n",
       "      <td>0.260$\\pm$0.026</td>\n",
       "      <td>2.385$\\pm$0.262</td>\n",
       "      <td>1.0</td>\n",
       "    </tr>\n",
       "    <tr>\n",
       "      <th>Project</th>\n",
       "      <td>0.641$\\pm$0.017</td>\n",
       "      <td>0.039$\\pm$0.029</td>\n",
       "      <td>0.227$\\pm$0.021</td>\n",
       "      <td>1.161$\\pm$0.145</td>\n",
       "      <td>0.2</td>\n",
       "    </tr>\n",
       "    <tr>\n",
       "      <th>Reduction</th>\n",
       "      <td>0.652$\\pm$0.012</td>\n",
       "      <td>-0.014$\\pm$0.054</td>\n",
       "      <td>0.037$\\pm$0.039</td>\n",
       "      <td>1.763$\\pm$0.069</td>\n",
       "      <td>1.0</td>\n",
       "    </tr>\n",
       "    <tr>\n",
       "      <th>SenSR</th>\n",
       "      <td>0.640$\\pm$0.022</td>\n",
       "      <td>0.046$\\pm$0.031</td>\n",
       "      <td>0.237$\\pm$0.018</td>\n",
       "      <td>1.098$\\pm$0.061</td>\n",
       "      <td>0.0</td>\n",
       "    </tr>\n",
       "  </tbody>\n",
       "</table>\n",
       "</div>"
      ],
      "text/plain": [
       "              Balanced Acc $\\text{AOD}_{\\text{gen}}$  \\\n",
       "                                                       \n",
       "Baseline   0.675$\\pm$0.013           0.218$\\pm$0.041   \n",
       "Project    0.641$\\pm$0.017           0.039$\\pm$0.029   \n",
       "Reduction  0.652$\\pm$0.012          -0.014$\\pm$0.054   \n",
       "SenSR      0.640$\\pm$0.022           0.046$\\pm$0.031   \n",
       "\n",
       "          $\\text{AOD}_{\\text{race}}$            $T_n$ Rejection Prop  \n",
       "                                                                      \n",
       "Baseline             0.260$\\pm$0.026  2.385$\\pm$0.262            1.0  \n",
       "Project              0.227$\\pm$0.021  1.161$\\pm$0.145            0.2  \n",
       "Reduction            0.037$\\pm$0.039  1.763$\\pm$0.069            1.0  \n",
       "SenSR                0.237$\\pm$0.018  1.098$\\pm$0.061            0.0  "
      ]
     },
     "execution_count": 6,
     "metadata": {},
     "output_type": "execute_result"
    }
   ],
   "source": [
    "ind = dict()\n",
    "for i, expt in enumerate(row_names):\n",
    "    ind[i] = expt\n",
    "    res = result[colnames].rename(index=ind)\n",
    "res"
   ]
  },
  {
   "cell_type": "code",
   "execution_count": 7,
   "metadata": {
    "tags": []
   },
   "outputs": [
    {
     "name": "stdout",
     "output_type": "stream",
     "text": [
      "\\begin{tabular}{lccccc}\n",
      "\\toprule\n",
      "{} &     Balanced Acc & $\\text{AOD}_{\\text{gen}}$ & $\\text{AOD}_{\\text{race}}$ &            $T_n$ & Rejection Prop \\\\\n",
      "{} \\\\\n",
      "\\midrule\n",
      "Baseline  &  0.675$\\pm$0.013 &           0.218$\\pm$0.041 &            0.260$\\pm$0.026 &  2.385$\\pm$0.262 &            1.0 \\\\\n",
      "Project   &  0.641$\\pm$0.017 &           0.039$\\pm$0.029 &            0.227$\\pm$0.021 &  1.161$\\pm$0.145 &            0.2 \\\\\n",
      "Reduction &  0.652$\\pm$0.012 &          -0.014$\\pm$0.054 &            0.037$\\pm$0.039 &  1.763$\\pm$0.069 &            1.0 \\\\\n",
      "SenSR     &  0.640$\\pm$0.022 &           0.046$\\pm$0.031 &            0.237$\\pm$0.018 &  1.098$\\pm$0.061 &            0.0 \\\\\n",
      "\\bottomrule\n",
      "\\end{tabular}\n",
      "\n"
     ]
    }
   ],
   "source": [
    "print(res.to_latex(escape=False, column_format='l' + 'c'*len(colnames)))"
   ]
  },
  {
   "cell_type": "code",
   "execution_count": 24,
   "metadata": {},
   "outputs": [],
   "source": [
    "import re\n",
    "import pandas as pd\n",
    "import json\n",
    "with open('summary/summary_faith1.txt', 'r') as f:\n",
    "    d = json.load(f)"
   ]
  },
  {
   "cell_type": "code",
   "execution_count": 26,
   "metadata": {},
   "outputs": [
    {
     "output_type": "execute_result",
     "data": {
      "text/plain": [
       "psi          float64\n",
       "test-stat    float64\n",
       "c-upper      float64\n",
       "algo          object\n",
       "iter           int64\n",
       "dtype: object"
      ]
     },
     "metadata": {},
     "execution_count": 26
    }
   ],
   "source": [
    "data = pd.DataFrame(d)\n",
    "data = data.rename(columns= {'exp': 'algo'})\n",
    "data.dtypes"
   ]
  },
  {
   "cell_type": "code",
   "execution_count": 28,
   "metadata": {},
   "outputs": [
    {
     "output_type": "execute_result",
     "data": {
      "text/plain": [
       "        algo       psi          \n",
       "                  mean       std\n",
       "0   baseline  0.274339  0.158281\n",
       "1    project  0.110635  0.155974\n",
       "2  reduction  0.207099  0.117275\n",
       "3      sensr  0.114069  0.145619"
      ],
      "text/html": "<div>\n<style scoped>\n    .dataframe tbody tr th:only-of-type {\n        vertical-align: middle;\n    }\n\n    .dataframe tbody tr th {\n        vertical-align: top;\n    }\n\n    .dataframe thead tr th {\n        text-align: left;\n    }\n</style>\n<table border=\"1\" class=\"dataframe\">\n  <thead>\n    <tr>\n      <th></th>\n      <th>algo</th>\n      <th colspan=\"2\" halign=\"left\">psi</th>\n    </tr>\n    <tr>\n      <th></th>\n      <th></th>\n      <th>mean</th>\n      <th>std</th>\n    </tr>\n  </thead>\n  <tbody>\n    <tr>\n      <th>0</th>\n      <td>baseline</td>\n      <td>0.274339</td>\n      <td>0.158281</td>\n    </tr>\n    <tr>\n      <th>1</th>\n      <td>project</td>\n      <td>0.110635</td>\n      <td>0.155974</td>\n    </tr>\n    <tr>\n      <th>2</th>\n      <td>reduction</td>\n      <td>0.207099</td>\n      <td>0.117275</td>\n    </tr>\n    <tr>\n      <th>3</th>\n      <td>sensr</td>\n      <td>0.114069</td>\n      <td>0.145619</td>\n    </tr>\n  </tbody>\n</table>\n</div>"
     },
     "metadata": {},
     "execution_count": 28
    }
   ],
   "source": [
    "measure = ['psi']#, 'reject']\n",
    "agg_dict = dict()\n",
    "for key in measure:\n",
    "    agg_dict[key] = ['mean', 'std']\n",
    "result2 = data.groupby(['algo'], as_index=False).agg(agg_dict)\n",
    "result2"
   ]
  },
  {
   "cell_type": "code",
   "execution_count": null,
   "metadata": {},
   "outputs": [],
   "source": [
    "data"
   ]
  }
 ],
 "metadata": {
  "kernelspec": {
   "display_name": "Python 3.7.4 64-bit",
   "language": "python",
   "name": "python37464bit48aa32fa6dba4f1bbd692e320b15fd93"
  },
  "language_info": {
   "codemirror_mode": {
    "name": "ipython",
    "version": 3
   },
   "file_extension": ".py",
   "mimetype": "text/x-python",
   "name": "python",
   "nbconvert_exporter": "python",
   "pygments_lexer": "ipython3",
   "version": "3.8.2-final"
  }
 },
 "nbformat": 4,
 "nbformat_minor": 2
}