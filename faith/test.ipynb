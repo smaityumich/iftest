{
 "metadata": {
  "language_info": {
   "codemirror_mode": {
    "name": "ipython",
    "version": 3
   },
   "file_extension": ".py",
   "mimetype": "text/x-python",
   "name": "python",
   "nbconvert_exporter": "python",
   "pygments_lexer": "ipython3",
   "version": "3.8.2-final"
  },
  "orig_nbformat": 2,
  "kernelspec": {
   "name": "python3",
   "display_name": "Python 3.8.2 64-bit",
   "metadata": {
    "interpreter": {
     "hash": "31f2aee4e71d21fbe5cf8b01ff0e069b9275f58929596ceb00d14d90e3e16cd6"
    }
   }
  }
 },
 "nbformat": 4,
 "nbformat_minor": 2,
 "cells": [
  {
   "cell_type": "code",
   "execution_count": 1,
   "metadata": {},
   "outputs": [
    {
     "output_type": "execute_result",
     "data": {
      "text/plain": [
       "(10000, 2)"
      ]
     },
     "metadata": {},
     "execution_count": 1
    }
   ],
   "source": [
    "import numpy as np\n",
    "n = 10000\n",
    "d = 4\n",
    "x1 = np.random.binomial(d, 0.5, size = (n, 1))\n",
    "x2 = np.random.binomial(1, 0.5, size = (n, 1))\n",
    "x = np.concatenate((x1, x2), axis = 1)\n",
    "x.shape"
   ]
  },
  {
   "cell_type": "code",
   "execution_count": 2,
   "metadata": {},
   "outputs": [],
   "source": [
    "b = np.array([[1, 0]])\n",
    "p = 1/(1 + np.exp(- x @ b.T + d/2)).reshape((-1,))\n",
    "y = np.random.binomial(1, p, size = (n, ))"
   ]
  },
  {
   "source": [
    "import json\n"
   ],
   "cell_type": "markdown",
   "metadata": {}
  },
  {
   "source": [
    "z = np.array([json.dumps({'x': list(x[i, :].astype('str')), 'y': str(y[i])}) for i in range(n)])\n",
    "Z, count = np.unique(z, return_counts=True)\n",
    "p = count/n\n",
    "Z.shape"
   ],
   "cell_type": "markdown",
   "metadata": {}
  },
  {
   "source": [
    "def fair_distance(z1, z2, infty_equiv = 1000):\n",
    "    x1, y1 = z1\n",
    "    x2, y2 = z2\n",
    "    if y1 != y2:\n",
    "        return infty_equiv\n",
    "    elif x1[0] != x2[0]:\n",
    "        return infty_equiv\n",
    "    else:\n",
    "        return 0"
   ],
   "cell_type": "code",
   "metadata": {},
   "execution_count": 10,
   "outputs": []
  },
  {
   "source": [
    "K = p.shape[0]\n",
    "C = np.zeros(shape = (K, K))\n",
    "for i in range(K):\n",
    "    for j in range(K):\n",
    "        if i < j:\n",
    "            zi = x[i,:], y[i]\n",
    "            zj = x[j, :], y[j]\n",
    "            C[i, j] = fair_distance(zi, zj)\n",
    "            C[j, i] = C[i, j]\n",
    "        else:\n",
    "            continue\n"
   ],
   "cell_type": "markdown",
   "metadata": {}
  },
  {
   "cell_type": "code",
   "execution_count": 11,
   "metadata": {},
   "outputs": [],
   "source": [
    "beta_hat = np.array([1, 0])\n",
    "def classifier(x):\n",
    "    y_hat = np.dot(x, beta_hat) > 0\n",
    "    return int(y_hat)"
   ]
  },
  {
   "cell_type": "code",
   "execution_count": 12,
   "metadata": {},
   "outputs": [],
   "source": [
    "from faith import faith_test"
   ]
  },
  {
   "cell_type": "code",
   "execution_count": 13,
   "metadata": {},
   "outputs": [
    {
     "output_type": "execute_result",
     "data": {
      "text/plain": [
       "0.16384317672125948"
      ]
     },
     "metadata": {},
     "execution_count": 13
    }
   ],
   "source": [
    "faith_test(x, y, fair_distance, classifier, delta = 1e-5)"
   ]
  },
  {
   "cell_type": "code",
   "execution_count": null,
   "metadata": {},
   "outputs": [],
   "source": []
  }
 ]
}