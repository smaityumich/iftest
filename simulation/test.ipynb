{
 "metadata": {
  "language_info": {
   "codemirror_mode": {
    "name": "ipython",
    "version": 3
   },
   "file_extension": ".py",
   "mimetype": "text/x-python",
   "name": "python",
   "nbconvert_exporter": "python",
   "pygments_lexer": "ipython3",
   "version": "3.8.2-final"
  },
  "orig_nbformat": 2,
  "kernelspec": {
   "name": "python3",
   "display_name": "Python 3.8.2 64-bit",
   "metadata": {
    "interpreter": {
     "hash": "31f2aee4e71d21fbe5cf8b01ff0e069b9275f58929596ceb00d14d90e3e16cd6"
    }
   }
  }
 },
 "nbformat": 4,
 "nbformat_minor": 2,
 "cells": [
  {
   "cell_type": "code",
   "execution_count": 1,
   "metadata": {},
   "outputs": [
    {
     "output_type": "execute_result",
     "data": {
      "text/plain": [
       "(None, None)"
      ]
     },
     "metadata": {},
     "execution_count": 1
    }
   ],
   "source": [
    "import numpy as np\n",
    "n = 1000\n",
    "d = 4\n",
    "x1 = np.random.binomial(d, 0.5, size = (n, 1))\n",
    "x2 = np.random.binomial(1, 0.5, size = (n, 1))\n",
    "x = np.concatenate((x1, x2), axis = 1)\n",
    "\n",
    "b = np.array([[1, 0]])\n",
    "p = 1/(1 + np.exp(- x @ b.T + d/2)).reshape((-1,))\n",
    "y = np.random.binomial(1, p, size = (n, ))\n",
    "\n",
    "theta = np.array([1, 0])\n",
    "np.save('data/x.npy', x), np.save('data/y.npy', y)"
   ]
  },
  {
   "cell_type": "code",
   "execution_count": 2,
   "metadata": {},
   "outputs": [],
   "source": [
    "def fair_distance(x1, x2):\n",
    "    return np.abs(x1[0] - x2[0])\n",
    "\n",
    "def c_distance(z1, z2, infty_equiv = 1000):\n",
    "    x1, y1 = z1\n",
    "    x2, y2 = z2\n",
    "    if y1 != y2:\n",
    "        return infty_equiv\n",
    "    else:\n",
    "        return fair_distance(x1, x2)"
   ]
  },
  {
   "cell_type": "code",
   "execution_count": 4,
   "metadata": {},
   "outputs": [
    {
     "output_type": "stream",
     "name": "stdout",
     "text": [
      "Number of iterations 29\nWith derivative -1.4924034985597245e-06\n"
     ]
    }
   ],
   "source": [
    "from loss_linear import claculate_bias, hard_linear_classifier, sample_perturbation, lower_bound\n",
    "from faith import faith_test\n",
    "\n",
    "bias = claculate_bias(theta, x, y)\n",
    "classifier = hard_linear_classifier(theta, bias)"
   ]
  },
  {
   "source": [
    "lower_bound(x, y, theta=theta, bias=bias, fair_direction=[0, 1], num_steps = 50)"
   ],
   "cell_type": "code",
   "metadata": {},
   "execution_count": 6,
   "outputs": [
    {
     "output_type": "stream",
     "name": "stdout",
     "text": [
      "[[0.2483994  0.22049449]\n [0.22049449 0.24992593]]\nDone for mean ratio of [1 0] with  T_n T_n_tilde 1.105796205118529 0.865359686468765\n"
     ]
    },
    {
     "output_type": "execute_result",
     "data": {
      "text/plain": [
       "(1.105796205118529, 0.865359686468765)"
      ]
     },
     "metadata": {},
     "execution_count": 6
    }
   ]
  },
  {
   "cell_type": "code",
   "execution_count": 7,
   "metadata": {},
   "outputs": [
    {
     "output_type": "execute_result",
     "data": {
      "text/plain": [
       "0.08388007379915358"
      ]
     },
     "metadata": {},
     "execution_count": 7
    }
   ],
   "source": [
    "faith_test(x, y, c_distance, classifier, delta = 1e-5)"
   ]
  },
  {
   "cell_type": "code",
   "execution_count": null,
   "metadata": {},
   "outputs": [],
   "source": []
  }
 ]
}